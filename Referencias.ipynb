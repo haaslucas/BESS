{
 "cells": [
  {
   "cell_type": "code",
   "execution_count": 239,
   "id": "677526a0-e80a-4792-a7ba-2a1bb4ebc864",
   "metadata": {},
   "outputs": [],
   "source": [
    "import pandas as pd\n",
    "import numpy as np"
   ]
  },
  {
   "cell_type": "code",
   "execution_count": 240,
   "id": "db5ab15b-0c5f-4c96-a9ed-0d1524adc06e",
   "metadata": {},
   "outputs": [
    {
     "data": {
      "text/plain": [
       "\"\\nimport os \\nfiles = os.listdir('.')\\n\\nRaw_db =  pd.Series(['BESS.csv', 'BESS_AND_HUAWEI.csv', 'BESS_AND_scada.csv', 'huawei_and_inverter.csv', 'huawei_and_PV.csv', 'hybrid_PV.csv', 'ieee.csv', 'photovoltaic.csv', 'PV_IOT_OR_PV_DATA_ACQUISITON_OR_PV_MONITORING.csv', 'PV_and_BESS.csv', 'scada_and_PV.csv', 'sun2000.csv'])\\nprint(Raw_db)\\n\""
      ]
     },
     "execution_count": 240,
     "metadata": {},
     "output_type": "execute_result"
    }
   ],
   "source": [
    "#por enquanto não usei essa cell, a idéia era automatizar o processo de coleta dos nomes dos arquivos .csv\n",
    "'''\n",
    "import os \n",
    "files = os.listdir('.')\n",
    "\n",
    "Raw_db =  pd.Series(['BESS.csv', 'BESS_AND_HUAWEI.csv', 'BESS_AND_scada.csv', 'huawei_and_inverter.csv', 'huawei_and_PV.csv', 'hybrid_PV.csv', 'ieee.csv', 'photovoltaic.csv', 'PV_IOT_OR_PV_DATA_ACQUISITON_OR_PV_MONITORING.csv', 'PV_and_BESS.csv', 'scada_and_PV.csv', 'sun2000.csv'])\n",
    "print(Raw_db)\n",
    "'''"
   ]
  },
  {
   "cell_type": "code",
   "execution_count": 241,
   "id": "413e6557-cdb9-419e-a628-0b005e37b0cc",
   "metadata": {},
   "outputs": [],
   "source": [
    "#carrega cada .csv e junta no arquivo ieee\n",
    "BESS = pd.read_csv('BESS.csv')\n",
    "BESS_AND_HUAWEI = pd.read_csv('BESS_AND_HUAWEI.csv')\n",
    "BESS_AND_scada = pd.read_csv('BESS_AND_scada.csv')\n",
    "huawei_and_inverter = pd.read_csv('huawei_and_inverter.csv')\n",
    "huawei_and_PV = pd.read_csv('huawei_and_PV.csv')\n",
    "photovoltaic = pd.read_csv('photovoltaic.csv')\n",
    "PV_IOT_OR_PV_DATA_ACQUISITON_OR_PV_MONITORING = pd.read_csv('PV_IOT_OR_PV_DATA_ACQUISITON_OR_PV_MONITORING.csv')\n",
    "PV_and_BESS = pd.read_csv('PV_and_BESS.csv')\n",
    "scada_and_PV = pd.read_csv('scada_and_PV.csv')\n",
    "sun2000 = pd.read_csv('sun2000.csv')\n",
    "\n",
    "ieee = pd.concat([BESS, BESS_AND_HUAWEI, BESS_AND_scada, huawei_and_inverter, huawei_and_PV, photovoltaic, PV_IOT_OR_PV_DATA_ACQUISITON_OR_PV_MONITORING, PV_and_BESS, scada_and_PV, sun2000  ] )\n"
   ]
  },
  {
   "cell_type": "code",
   "execution_count": 242,
   "id": "a64e329b-33eb-4401-97a6-63d0f483c32f",
   "metadata": {},
   "outputs": [
    {
     "data": {
      "text/plain": [
       "5690"
      ]
     },
     "execution_count": 242,
     "metadata": {},
     "output_type": "execute_result"
    }
   ],
   "source": [
    "len(ieee)"
   ]
  },
  {
   "cell_type": "code",
   "execution_count": 243,
   "id": "f22fea87-f62f-459e-8bcc-10b7f483665b",
   "metadata": {},
   "outputs": [
    {
     "data": {
      "text/html": [
       "<div>\n",
       "<style scoped>\n",
       "    .dataframe tbody tr th:only-of-type {\n",
       "        vertical-align: middle;\n",
       "    }\n",
       "\n",
       "    .dataframe tbody tr th {\n",
       "        vertical-align: top;\n",
       "    }\n",
       "\n",
       "    .dataframe thead th {\n",
       "        text-align: right;\n",
       "    }\n",
       "</style>\n",
       "<table border=\"1\" class=\"dataframe\">\n",
       "  <thead>\n",
       "    <tr style=\"text-align: right;\">\n",
       "      <th></th>\n",
       "      <th>Document Title</th>\n",
       "      <th>Authors</th>\n",
       "      <th>Author Affiliations</th>\n",
       "      <th>Publication Title</th>\n",
       "      <th>Date Added To Xplore</th>\n",
       "      <th>Publication Year</th>\n",
       "      <th>Volume</th>\n",
       "      <th>Issue</th>\n",
       "      <th>Start Page</th>\n",
       "      <th>End Page</th>\n",
       "      <th>...</th>\n",
       "      <th>Mesh_Terms</th>\n",
       "      <th>Article Citation Count</th>\n",
       "      <th>Patent Citation Count</th>\n",
       "      <th>Reference Count</th>\n",
       "      <th>License</th>\n",
       "      <th>Online Date</th>\n",
       "      <th>Issue Date</th>\n",
       "      <th>Meeting Date</th>\n",
       "      <th>Publisher</th>\n",
       "      <th>Document Identifier</th>\n",
       "    </tr>\n",
       "  </thead>\n",
       "  <tbody>\n",
       "    <tr>\n",
       "      <th>0</th>\n",
       "      <td>Battery Energy Storage System (BESS) Sizing An...</td>\n",
       "      <td>D. Wu; Q. Gui; W. Zhao; J. Wang; S. Shi; Y. Zhou</td>\n",
       "      <td>State Grid Shanghai Municipal Electric Power C...</td>\n",
       "      <td>2020 IEEE 3rd Student Conference on Electrical...</td>\n",
       "      <td>15 Feb 2021</td>\n",
       "      <td>2020</td>\n",
       "      <td>NaN</td>\n",
       "      <td>NaN</td>\n",
       "      <td>658</td>\n",
       "      <td>662</td>\n",
       "      <td>...</td>\n",
       "      <td>NaN</td>\n",
       "      <td>NaN</td>\n",
       "      <td>NaN</td>\n",
       "      <td>12.0</td>\n",
       "      <td>NaN</td>\n",
       "      <td>15 Feb 2021</td>\n",
       "      <td>NaN</td>\n",
       "      <td>NaN</td>\n",
       "      <td>IEEE</td>\n",
       "      <td>IEEE Conferences</td>\n",
       "    </tr>\n",
       "    <tr>\n",
       "      <th>1</th>\n",
       "      <td>Battery Energy Storage System (BESS) and Devel...</td>\n",
       "      <td>N. Chatrung</td>\n",
       "      <td>Transmission System Engineering Division, Elec...</td>\n",
       "      <td>2019 IEEE PES GTD Grand International Conferen...</td>\n",
       "      <td>16 May 2019</td>\n",
       "      <td>2019</td>\n",
       "      <td>NaN</td>\n",
       "      <td>NaN</td>\n",
       "      <td>589</td>\n",
       "      <td>593</td>\n",
       "      <td>...</td>\n",
       "      <td>NaN</td>\n",
       "      <td>1.0</td>\n",
       "      <td>NaN</td>\n",
       "      <td>12.0</td>\n",
       "      <td>NaN</td>\n",
       "      <td>16 May 2019</td>\n",
       "      <td>NaN</td>\n",
       "      <td>NaN</td>\n",
       "      <td>IEEE</td>\n",
       "      <td>IEEE Conferences</td>\n",
       "    </tr>\n",
       "    <tr>\n",
       "      <th>2</th>\n",
       "      <td>Financial Benefits of PV only, BESS only and P...</td>\n",
       "      <td>L. Cheun Hau; Y. Seng Lim</td>\n",
       "      <td>Universiti Tunku Abdul Rahman (UTAR),Lee Kong ...</td>\n",
       "      <td>2020 International Conference on Smart Grid an...</td>\n",
       "      <td>7 Dec 2020</td>\n",
       "      <td>2020</td>\n",
       "      <td>NaN</td>\n",
       "      <td>NaN</td>\n",
       "      <td>59</td>\n",
       "      <td>64</td>\n",
       "      <td>...</td>\n",
       "      <td>NaN</td>\n",
       "      <td>2.0</td>\n",
       "      <td>NaN</td>\n",
       "      <td>20.0</td>\n",
       "      <td>NaN</td>\n",
       "      <td>7 Dec 2020</td>\n",
       "      <td>NaN</td>\n",
       "      <td>NaN</td>\n",
       "      <td>IEEE</td>\n",
       "      <td>IEEE Conferences</td>\n",
       "    </tr>\n",
       "    <tr>\n",
       "      <th>3</th>\n",
       "      <td>Voltage Security Constrained Stochastic Progra...</td>\n",
       "      <td>S. M. Mohseni-Bonab; I. Kamwa; A. Moeini; A. R...</td>\n",
       "      <td>Electrical Engineering Department, Université ...</td>\n",
       "      <td>IEEE Transactions on Sustainable Energy</td>\n",
       "      <td>17 Dec 2019</td>\n",
       "      <td>2020</td>\n",
       "      <td>11</td>\n",
       "      <td>1.0</td>\n",
       "      <td>391</td>\n",
       "      <td>404</td>\n",
       "      <td>...</td>\n",
       "      <td>NaN</td>\n",
       "      <td>16.0</td>\n",
       "      <td>NaN</td>\n",
       "      <td>44.0</td>\n",
       "      <td>IEEE</td>\n",
       "      <td>9 Jan 2019</td>\n",
       "      <td>NaN</td>\n",
       "      <td>NaN</td>\n",
       "      <td>IEEE</td>\n",
       "      <td>IEEE Journals</td>\n",
       "    </tr>\n",
       "    <tr>\n",
       "      <th>4</th>\n",
       "      <td>BESS control on an microgrid with significant ...</td>\n",
       "      <td>M. C. Such; G. Y. Masada</td>\n",
       "      <td>IEM Power Systems, Jacksonville, FL 32224, USA...</td>\n",
       "      <td>2017 IEEE Power &amp; Energy Society General Meeting</td>\n",
       "      <td>1 Feb 2018</td>\n",
       "      <td>2017</td>\n",
       "      <td>NaN</td>\n",
       "      <td>NaN</td>\n",
       "      <td>1</td>\n",
       "      <td>5</td>\n",
       "      <td>...</td>\n",
       "      <td>NaN</td>\n",
       "      <td>3.0</td>\n",
       "      <td>NaN</td>\n",
       "      <td>8.0</td>\n",
       "      <td>NaN</td>\n",
       "      <td>1 Feb 2018</td>\n",
       "      <td>NaN</td>\n",
       "      <td>NaN</td>\n",
       "      <td>IEEE</td>\n",
       "      <td>IEEE Conferences</td>\n",
       "    </tr>\n",
       "  </tbody>\n",
       "</table>\n",
       "<p>5 rows × 30 columns</p>\n",
       "</div>"
      ],
      "text/plain": [
       "                                      Document Title  \\\n",
       "0  Battery Energy Storage System (BESS) Sizing An...   \n",
       "1  Battery Energy Storage System (BESS) and Devel...   \n",
       "2  Financial Benefits of PV only, BESS only and P...   \n",
       "3  Voltage Security Constrained Stochastic Progra...   \n",
       "4  BESS control on an microgrid with significant ...   \n",
       "\n",
       "                                             Authors  \\\n",
       "0   D. Wu; Q. Gui; W. Zhao; J. Wang; S. Shi; Y. Zhou   \n",
       "1                                        N. Chatrung   \n",
       "2                          L. Cheun Hau; Y. Seng Lim   \n",
       "3  S. M. Mohseni-Bonab; I. Kamwa; A. Moeini; A. R...   \n",
       "4                           M. C. Such; G. Y. Masada   \n",
       "\n",
       "                                 Author Affiliations  \\\n",
       "0  State Grid Shanghai Municipal Electric Power C...   \n",
       "1  Transmission System Engineering Division, Elec...   \n",
       "2  Universiti Tunku Abdul Rahman (UTAR),Lee Kong ...   \n",
       "3  Electrical Engineering Department, Université ...   \n",
       "4  IEM Power Systems, Jacksonville, FL 32224, USA...   \n",
       "\n",
       "                                   Publication Title Date Added To Xplore  \\\n",
       "0  2020 IEEE 3rd Student Conference on Electrical...          15 Feb 2021   \n",
       "1  2019 IEEE PES GTD Grand International Conferen...          16 May 2019   \n",
       "2  2020 International Conference on Smart Grid an...           7 Dec 2020   \n",
       "3            IEEE Transactions on Sustainable Energy          17 Dec 2019   \n",
       "4   2017 IEEE Power & Energy Society General Meeting           1 Feb 2018   \n",
       "\n",
       "   Publication Year Volume  Issue Start Page End Page  ... Mesh_Terms  \\\n",
       "0              2020    NaN    NaN        658      662  ...        NaN   \n",
       "1              2019    NaN    NaN        589      593  ...        NaN   \n",
       "2              2020    NaN    NaN         59       64  ...        NaN   \n",
       "3              2020     11    1.0        391      404  ...        NaN   \n",
       "4              2017    NaN    NaN          1        5  ...        NaN   \n",
       "\n",
       "  Article Citation Count Patent Citation Count Reference Count License  \\\n",
       "0                    NaN                   NaN            12.0     NaN   \n",
       "1                    1.0                   NaN            12.0     NaN   \n",
       "2                    2.0                   NaN            20.0     NaN   \n",
       "3                   16.0                   NaN            44.0    IEEE   \n",
       "4                    3.0                   NaN             8.0     NaN   \n",
       "\n",
       "   Online Date Issue Date Meeting Date Publisher Document Identifier  \n",
       "0  15 Feb 2021        NaN          NaN      IEEE    IEEE Conferences  \n",
       "1  16 May 2019        NaN          NaN      IEEE    IEEE Conferences  \n",
       "2   7 Dec 2020        NaN          NaN      IEEE    IEEE Conferences  \n",
       "3   9 Jan 2019        NaN          NaN      IEEE       IEEE Journals  \n",
       "4   1 Feb 2018        NaN          NaN      IEEE    IEEE Conferences  \n",
       "\n",
       "[5 rows x 30 columns]"
      ]
     },
     "execution_count": 243,
     "metadata": {},
     "output_type": "execute_result"
    }
   ],
   "source": [
    "ieee.head()"
   ]
  },
  {
   "cell_type": "code",
   "execution_count": 244,
   "id": "656b73c9-a189-4068-9afe-be79eff2a1f0",
   "metadata": {},
   "outputs": [],
   "source": [
    "#remove linhas duplicadas\n",
    "ieee = ieee.drop_duplicates( subset = [ \"Document Title\"],\n",
    "                                           keep=\"first\" )"
   ]
  },
  {
   "cell_type": "code",
   "execution_count": 245,
   "id": "27eb968f-4789-42a6-b515-dbe0d0baf39f",
   "metadata": {},
   "outputs": [],
   "source": [
    "# remove colunas desnecessárias\n",
    "ieee = ieee.drop('Author Affiliations', axis=1)\n",
    "ieee = ieee.drop('Publication Title', axis=1)\n",
    "ieee = ieee.drop('Date Added To Xplore', axis=1)\n",
    "ieee = ieee.drop('Volume', axis=1)\n",
    "ieee = ieee.drop('Issue', axis=1)\n",
    "ieee = ieee.drop('Start Page', axis=1)\n",
    "ieee = ieee.drop('End Page', axis=1)\n",
    "ieee = ieee.drop('Mesh_Terms', axis=1)\n",
    "ieee = ieee.drop('License', axis=1)\n",
    "ieee = ieee.drop('Online Date', axis=1)\n",
    "ieee = ieee.drop('Issue Date', axis=1)\n",
    "ieee = ieee.drop('Meeting Date', axis=1)\n",
    "ieee = ieee.drop('Publisher', axis=1)\n",
    "ieee = ieee.drop('ISSN', axis=1)\n",
    "ieee = ieee.drop('ISBNs', axis=1)\n",
    "ieee = ieee.drop('DOI', axis=1)\n",
    "ieee = ieee.drop('Funding Information', axis=1)\n",
    "ieee = ieee.drop('PDF Link', axis=1)\n",
    "ieee = ieee.drop('IEEE Terms', axis=1)\n",
    "ieee = ieee.drop('INSPEC Controlled Terms', axis=1)\n",
    "ieee = ieee.drop('INSPEC Non-Controlled Terms', axis=1)"
   ]
  },
  {
   "cell_type": "code",
   "execution_count": null,
   "id": "0421ae46-4746-4075-a500-7141711504f0",
   "metadata": {},
   "outputs": [],
   "source": []
  },
  {
   "cell_type": "code",
   "execution_count": 246,
   "id": "e481804a-c32a-4ede-a523-01cdf03f5dc1",
   "metadata": {},
   "outputs": [
    {
     "data": {
      "text/plain": [
       "2149"
      ]
     },
     "execution_count": 246,
     "metadata": {},
     "output_type": "execute_result"
    }
   ],
   "source": [
    "#ieee10 são os resultados com mais de 10 citações\n",
    "ieee10= ieee[ieee['Article Citation Count']>10] \n",
    "len(ieee10)"
   ]
  },
  {
   "cell_type": "code",
   "execution_count": 247,
   "id": "23f74051-d54f-4192-92a9-aebd69ae903e",
   "metadata": {},
   "outputs": [],
   "source": [
    "#ordena por quantidade de citações\n",
    "ieee10 = ieee10.sort_values(by = ['Article Citation Count'], ascending = [False]) "
   ]
  },
  {
   "cell_type": "code",
   "execution_count": 248,
   "id": "a91e9d5a-c883-482a-af26-a6a8e6cdded1",
   "metadata": {},
   "outputs": [],
   "source": [
    "ieee10.to_excel('Referencias.xlsx')"
   ]
  },
  {
   "cell_type": "code",
   "execution_count": null,
   "id": "01398a07-3995-4d3f-b373-6862a1f77f8b",
   "metadata": {},
   "outputs": [],
   "source": []
  }
 ],
 "metadata": {
  "kernelspec": {
   "display_name": "Python 3 (ipykernel)",
   "language": "python",
   "name": "python3"
  },
  "language_info": {
   "codemirror_mode": {
    "name": "ipython",
    "version": 3
   },
   "file_extension": ".py",
   "mimetype": "text/x-python",
   "name": "python",
   "nbconvert_exporter": "python",
   "pygments_lexer": "ipython3",
   "version": "3.9.7"
  }
 },
 "nbformat": 4,
 "nbformat_minor": 5
}
